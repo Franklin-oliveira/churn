{
 "cells": [
  {
   "cell_type": "markdown",
   "metadata": {},
   "source": [
    "# Data validation\n",
    "This is a mostly manual section, where we check data validity and inconsistencies. Also, it is important for the data to be resilient to bugs."
   ]
  },
  {
   "cell_type": "code",
   "execution_count": 124,
   "metadata": {},
   "outputs": [],
   "source": [
    "import os\n",
    "import pickle as pkl\n",
    "import re\n",
    "import sys\n",
    "import warnings\n",
    "\n",
    "import matplotlib.pyplot as plt\n",
    "import numpy as np\n",
    "import pandas as pd\n",
    "import seaborn as sns\n",
    "\n",
    "# %matplotlib inline\n",
    "warnings.filterwarnings('ignore')"
   ]
  },
  {
   "cell_type": "markdown",
   "metadata": {},
   "source": [
    "# set sandbox_mode boolean for image building\n",
    "* if sandbox_mode == True: faster to run, but images won't be generated"
   ]
  },
  {
   "cell_type": "code",
   "execution_count": 125,
   "metadata": {},
   "outputs": [],
   "source": [
    "sandbox_mode = True"
   ]
  },
  {
   "cell_type": "markdown",
   "metadata": {},
   "source": [
    "# define functions"
   ]
  },
  {
   "cell_type": "code",
   "execution_count": 126,
   "metadata": {},
   "outputs": [],
   "source": [
    "# get numerical columns\n",
    "def get_numerical_mask(df):\n",
    "    type_mask = []\n",
    "    for i in df.dtypes:\n",
    "        if str(i).startswith('float') or str(i).startswith('int'): # or str(i).startswith('bool')\n",
    "            type_mask.append(True)\n",
    "        else: type_mask.append(False)\n",
    "    num_cols = list(np.array(df.columns)[type_mask])\n",
    "    other_cols = list(np.array(df.columns)[[not elem for elem in type_mask]])\n",
    "    \n",
    "    return num_cols, other_cols\n",
    "\n",
    "# build boxplots\n",
    "def build_boxplots(df, file):\n",
    "    \n",
    "    plt.close()\n",
    "    \n",
    "    cols = df.columns\n",
    "    fig, axes = plt.subplots(1,len(cols),figsize=(15,5))\n",
    "\n",
    "    for ax,col in zip(axes, cols):\n",
    "        sns.boxplot(y = col, data = df[cols], ax = ax, width=.1)\n",
    "    plt.tight_layout()\n",
    "    plt.plot()\n",
    "    \n",
    "    # save file\n",
    "    file = '01boxplot_'+file+'.jpg'\n",
    "    plt.savefig(os.path.join(reports,file), bbox_inches = \"tight\")"
   ]
  },
  {
   "cell_type": "markdown",
   "metadata": {},
   "source": [
    "# Define paths and capture data"
   ]
  },
  {
   "cell_type": "code",
   "execution_count": 127,
   "metadata": {},
   "outputs": [],
   "source": [
    "inputs = os.path.join('..', 'data', '01_raw')\n",
    "outputs = os.path.join('..', 'data', '02_intermediate')\n",
    "reports = os.path.join('..', 'data', '06_reporting')\n",
    "\n",
    "data = pd.read_csv(os.path.join(inputs, 'data_sample.csv'))\n",
    "# data_identity = pd.read_csv(os.path.join(inputs, 'train_identity.csv'))"
   ]
  },
  {
   "cell_type": "code",
   "execution_count": 128,
   "metadata": {},
   "outputs": [
    {
     "name": "stdout",
     "output_type": "stream",
     "text": [
      "shape of data: 10000\n"
     ]
    },
    {
     "data": {
      "text/html": [
       "<div>\n",
       "<style scoped>\n",
       "    .dataframe tbody tr th:only-of-type {\n",
       "        vertical-align: middle;\n",
       "    }\n",
       "\n",
       "    .dataframe tbody tr th {\n",
       "        vertical-align: top;\n",
       "    }\n",
       "\n",
       "    .dataframe thead th {\n",
       "        text-align: right;\n",
       "    }\n",
       "</style>\n",
       "<table border=\"1\" class=\"dataframe\">\n",
       "  <thead>\n",
       "    <tr style=\"text-align: right;\">\n",
       "      <th></th>\n",
       "      <th>Unnamed: 0</th>\n",
       "      <th>TransactionID</th>\n",
       "      <th>isFraud</th>\n",
       "      <th>TransactionDT</th>\n",
       "      <th>TransactionAmt</th>\n",
       "      <th>ProductCD</th>\n",
       "      <th>card1</th>\n",
       "      <th>card2</th>\n",
       "      <th>card3</th>\n",
       "      <th>card4</th>\n",
       "      <th>...</th>\n",
       "      <th>V330</th>\n",
       "      <th>V331</th>\n",
       "      <th>V332</th>\n",
       "      <th>V333</th>\n",
       "      <th>V334</th>\n",
       "      <th>V335</th>\n",
       "      <th>V336</th>\n",
       "      <th>V337</th>\n",
       "      <th>V338</th>\n",
       "      <th>V339</th>\n",
       "    </tr>\n",
       "  </thead>\n",
       "  <tbody>\n",
       "    <tr>\n",
       "      <th>0</th>\n",
       "      <td>499774</td>\n",
       "      <td>3486774</td>\n",
       "      <td>0</td>\n",
       "      <td>13107389</td>\n",
       "      <td>38.056</td>\n",
       "      <td>C</td>\n",
       "      <td>9633</td>\n",
       "      <td>130.0</td>\n",
       "      <td>185.0</td>\n",
       "      <td>visa</td>\n",
       "      <td>...</td>\n",
       "      <td>NaN</td>\n",
       "      <td>NaN</td>\n",
       "      <td>NaN</td>\n",
       "      <td>NaN</td>\n",
       "      <td>NaN</td>\n",
       "      <td>NaN</td>\n",
       "      <td>NaN</td>\n",
       "      <td>NaN</td>\n",
       "      <td>NaN</td>\n",
       "      <td>NaN</td>\n",
       "    </tr>\n",
       "    <tr>\n",
       "      <th>1</th>\n",
       "      <td>75695</td>\n",
       "      <td>3062695</td>\n",
       "      <td>0</td>\n",
       "      <td>1650884</td>\n",
       "      <td>150.000</td>\n",
       "      <td>R</td>\n",
       "      <td>15063</td>\n",
       "      <td>514.0</td>\n",
       "      <td>150.0</td>\n",
       "      <td>visa</td>\n",
       "      <td>...</td>\n",
       "      <td>0.0</td>\n",
       "      <td>0.0</td>\n",
       "      <td>0.0</td>\n",
       "      <td>0.0</td>\n",
       "      <td>0.0</td>\n",
       "      <td>0.0</td>\n",
       "      <td>0.0</td>\n",
       "      <td>0.0</td>\n",
       "      <td>0.0</td>\n",
       "      <td>0.0</td>\n",
       "    </tr>\n",
       "    <tr>\n",
       "      <th>2</th>\n",
       "      <td>286443</td>\n",
       "      <td>3273443</td>\n",
       "      <td>0</td>\n",
       "      <td>7048761</td>\n",
       "      <td>56.500</td>\n",
       "      <td>W</td>\n",
       "      <td>9006</td>\n",
       "      <td>555.0</td>\n",
       "      <td>143.0</td>\n",
       "      <td>mastercard</td>\n",
       "      <td>...</td>\n",
       "      <td>NaN</td>\n",
       "      <td>NaN</td>\n",
       "      <td>NaN</td>\n",
       "      <td>NaN</td>\n",
       "      <td>NaN</td>\n",
       "      <td>NaN</td>\n",
       "      <td>NaN</td>\n",
       "      <td>NaN</td>\n",
       "      <td>NaN</td>\n",
       "      <td>NaN</td>\n",
       "    </tr>\n",
       "    <tr>\n",
       "      <th>3</th>\n",
       "      <td>397445</td>\n",
       "      <td>3384445</td>\n",
       "      <td>0</td>\n",
       "      <td>10011292</td>\n",
       "      <td>8.459</td>\n",
       "      <td>C</td>\n",
       "      <td>11201</td>\n",
       "      <td>103.0</td>\n",
       "      <td>185.0</td>\n",
       "      <td>visa</td>\n",
       "      <td>...</td>\n",
       "      <td>NaN</td>\n",
       "      <td>NaN</td>\n",
       "      <td>NaN</td>\n",
       "      <td>NaN</td>\n",
       "      <td>NaN</td>\n",
       "      <td>NaN</td>\n",
       "      <td>NaN</td>\n",
       "      <td>NaN</td>\n",
       "      <td>NaN</td>\n",
       "      <td>NaN</td>\n",
       "    </tr>\n",
       "    <tr>\n",
       "      <th>4</th>\n",
       "      <td>502059</td>\n",
       "      <td>3489059</td>\n",
       "      <td>0</td>\n",
       "      <td>13159069</td>\n",
       "      <td>77.950</td>\n",
       "      <td>W</td>\n",
       "      <td>7919</td>\n",
       "      <td>194.0</td>\n",
       "      <td>150.0</td>\n",
       "      <td>mastercard</td>\n",
       "      <td>...</td>\n",
       "      <td>NaN</td>\n",
       "      <td>NaN</td>\n",
       "      <td>NaN</td>\n",
       "      <td>NaN</td>\n",
       "      <td>NaN</td>\n",
       "      <td>NaN</td>\n",
       "      <td>NaN</td>\n",
       "      <td>NaN</td>\n",
       "      <td>NaN</td>\n",
       "      <td>NaN</td>\n",
       "    </tr>\n",
       "  </tbody>\n",
       "</table>\n",
       "<p>5 rows × 395 columns</p>\n",
       "</div>"
      ],
      "text/plain": [
       "   Unnamed: 0  TransactionID  isFraud  TransactionDT  TransactionAmt  \\\n",
       "0      499774        3486774        0       13107389          38.056   \n",
       "1       75695        3062695        0        1650884         150.000   \n",
       "2      286443        3273443        0        7048761          56.500   \n",
       "3      397445        3384445        0       10011292           8.459   \n",
       "4      502059        3489059        0       13159069          77.950   \n",
       "\n",
       "  ProductCD  card1  card2  card3       card4  ...  V330 V331  V332  V333  \\\n",
       "0         C   9633  130.0  185.0        visa  ...   NaN  NaN   NaN   NaN   \n",
       "1         R  15063  514.0  150.0        visa  ...   0.0  0.0   0.0   0.0   \n",
       "2         W   9006  555.0  143.0  mastercard  ...   NaN  NaN   NaN   NaN   \n",
       "3         C  11201  103.0  185.0        visa  ...   NaN  NaN   NaN   NaN   \n",
       "4         W   7919  194.0  150.0  mastercard  ...   NaN  NaN   NaN   NaN   \n",
       "\n",
       "   V334  V335 V336 V337  V338  V339  \n",
       "0   NaN   NaN  NaN  NaN   NaN   NaN  \n",
       "1   0.0   0.0  0.0  0.0   0.0   0.0  \n",
       "2   NaN   NaN  NaN  NaN   NaN   NaN  \n",
       "3   NaN   NaN  NaN  NaN   NaN   NaN  \n",
       "4   NaN   NaN  NaN  NaN   NaN   NaN  \n",
       "\n",
       "[5 rows x 395 columns]"
      ]
     },
     "execution_count": 128,
     "metadata": {},
     "output_type": "execute_result"
    }
   ],
   "source": [
    "print('shape of data:', data.shape[0])\n",
    "data.head()"
   ]
  },
  {
   "cell_type": "markdown",
   "metadata": {},
   "source": [
    "# standardize data\n",
    "For now I am going to consider that cycle might be an important feature: machine's probability to fail might increase according to how long it is being used.\n",
    "\n",
    "Also, I'll manually set id.\n",
    "\n",
    "Further investigation is needed, but it seems a reasonable inference for now."
   ]
  },
  {
   "cell_type": "code",
   "execution_count": 129,
   "metadata": {},
   "outputs": [],
   "source": [
    "data.rename({c: c.lower() for c in data.columns}, axis=1, inplace=True)\n",
    "data.rename({'isfraud': 'y', 'transactionid': 'id'}, axis=1, inplace=True)"
   ]
  },
  {
   "cell_type": "markdown",
   "metadata": {},
   "source": [
    "# check duplicates for main data"
   ]
  },
  {
   "cell_type": "code",
   "execution_count": 130,
   "metadata": {
    "scrolled": true
   },
   "outputs": [
    {
     "name": "stdout",
     "output_type": "stream",
     "text": [
      "number of removed duplicates: 0\n"
     ]
    }
   ],
   "source": [
    "def duplicate_cleanup(df, col_id):\n",
    "    original_size = df.shape[0]\n",
    "    col_subset = df.columns.to_list()\n",
    "    n_duplicates = df[(df.duplicated(col_subset))].shape[0]\n",
    "    df.drop_duplicates(col_subset, inplace=True)\n",
    "    print('number of removed duplicates:', n_duplicates)\n",
    "    \n",
    "    true_duplicates = df[(df.duplicated(col_id))].shape[0]\n",
    "    if true_duplicates != 0:\n",
    "        raise ValueError('There are still duplicates to verify')\n",
    "        \n",
    "    return df\n",
    "\n",
    "data = duplicate_cleanup(data, 'id')"
   ]
  },
  {
   "cell_type": "markdown",
   "metadata": {},
   "source": [
    "# set index"
   ]
  },
  {
   "cell_type": "code",
   "execution_count": 131,
   "metadata": {},
   "outputs": [],
   "source": [
    "data.set_index('id', inplace=True)"
   ]
  },
  {
   "cell_type": "markdown",
   "metadata": {},
   "source": [
    "# build new variables"
   ]
  },
  {
   "cell_type": "code",
   "execution_count": 132,
   "metadata": {},
   "outputs": [],
   "source": [
    "# todo"
   ]
  },
  {
   "cell_type": "markdown",
   "metadata": {},
   "source": [
    "# drop unused columns\n",
    "the columns which start with 'v' are transformations already provided from the dataset, but we are more interested in building our own transformations."
   ]
  },
  {
   "cell_type": "code",
   "execution_count": 133,
   "metadata": {},
   "outputs": [
    {
     "data": {
      "text/html": [
       "<div>\n",
       "<style scoped>\n",
       "    .dataframe tbody tr th:only-of-type {\n",
       "        vertical-align: middle;\n",
       "    }\n",
       "\n",
       "    .dataframe tbody tr th {\n",
       "        vertical-align: top;\n",
       "    }\n",
       "\n",
       "    .dataframe thead th {\n",
       "        text-align: right;\n",
       "    }\n",
       "</style>\n",
       "<table border=\"1\" class=\"dataframe\">\n",
       "  <thead>\n",
       "    <tr style=\"text-align: right;\">\n",
       "      <th></th>\n",
       "      <th>unnamed: 0</th>\n",
       "      <th>y</th>\n",
       "      <th>transactiondt</th>\n",
       "      <th>transactionamt</th>\n",
       "      <th>productcd</th>\n",
       "      <th>card1</th>\n",
       "      <th>card2</th>\n",
       "      <th>card3</th>\n",
       "      <th>card4</th>\n",
       "      <th>card5</th>\n",
       "      <th>...</th>\n",
       "      <th>v330</th>\n",
       "      <th>v331</th>\n",
       "      <th>v332</th>\n",
       "      <th>v333</th>\n",
       "      <th>v334</th>\n",
       "      <th>v335</th>\n",
       "      <th>v336</th>\n",
       "      <th>v337</th>\n",
       "      <th>v338</th>\n",
       "      <th>v339</th>\n",
       "    </tr>\n",
       "    <tr>\n",
       "      <th>id</th>\n",
       "      <th></th>\n",
       "      <th></th>\n",
       "      <th></th>\n",
       "      <th></th>\n",
       "      <th></th>\n",
       "      <th></th>\n",
       "      <th></th>\n",
       "      <th></th>\n",
       "      <th></th>\n",
       "      <th></th>\n",
       "      <th></th>\n",
       "      <th></th>\n",
       "      <th></th>\n",
       "      <th></th>\n",
       "      <th></th>\n",
       "      <th></th>\n",
       "      <th></th>\n",
       "      <th></th>\n",
       "      <th></th>\n",
       "      <th></th>\n",
       "      <th></th>\n",
       "    </tr>\n",
       "  </thead>\n",
       "  <tbody>\n",
       "    <tr>\n",
       "      <th>3486774</th>\n",
       "      <td>499774</td>\n",
       "      <td>0</td>\n",
       "      <td>13107389</td>\n",
       "      <td>38.056</td>\n",
       "      <td>C</td>\n",
       "      <td>9633</td>\n",
       "      <td>130.0</td>\n",
       "      <td>185.0</td>\n",
       "      <td>visa</td>\n",
       "      <td>138.0</td>\n",
       "      <td>...</td>\n",
       "      <td>NaN</td>\n",
       "      <td>NaN</td>\n",
       "      <td>NaN</td>\n",
       "      <td>NaN</td>\n",
       "      <td>NaN</td>\n",
       "      <td>NaN</td>\n",
       "      <td>NaN</td>\n",
       "      <td>NaN</td>\n",
       "      <td>NaN</td>\n",
       "      <td>NaN</td>\n",
       "    </tr>\n",
       "    <tr>\n",
       "      <th>3062695</th>\n",
       "      <td>75695</td>\n",
       "      <td>0</td>\n",
       "      <td>1650884</td>\n",
       "      <td>150.000</td>\n",
       "      <td>R</td>\n",
       "      <td>15063</td>\n",
       "      <td>514.0</td>\n",
       "      <td>150.0</td>\n",
       "      <td>visa</td>\n",
       "      <td>226.0</td>\n",
       "      <td>...</td>\n",
       "      <td>0.0</td>\n",
       "      <td>0.0</td>\n",
       "      <td>0.0</td>\n",
       "      <td>0.0</td>\n",
       "      <td>0.0</td>\n",
       "      <td>0.0</td>\n",
       "      <td>0.0</td>\n",
       "      <td>0.0</td>\n",
       "      <td>0.0</td>\n",
       "      <td>0.0</td>\n",
       "    </tr>\n",
       "    <tr>\n",
       "      <th>3273443</th>\n",
       "      <td>286443</td>\n",
       "      <td>0</td>\n",
       "      <td>7048761</td>\n",
       "      <td>56.500</td>\n",
       "      <td>W</td>\n",
       "      <td>9006</td>\n",
       "      <td>555.0</td>\n",
       "      <td>143.0</td>\n",
       "      <td>mastercard</td>\n",
       "      <td>224.0</td>\n",
       "      <td>...</td>\n",
       "      <td>NaN</td>\n",
       "      <td>NaN</td>\n",
       "      <td>NaN</td>\n",
       "      <td>NaN</td>\n",
       "      <td>NaN</td>\n",
       "      <td>NaN</td>\n",
       "      <td>NaN</td>\n",
       "      <td>NaN</td>\n",
       "      <td>NaN</td>\n",
       "      <td>NaN</td>\n",
       "    </tr>\n",
       "    <tr>\n",
       "      <th>3384445</th>\n",
       "      <td>397445</td>\n",
       "      <td>0</td>\n",
       "      <td>10011292</td>\n",
       "      <td>8.459</td>\n",
       "      <td>C</td>\n",
       "      <td>11201</td>\n",
       "      <td>103.0</td>\n",
       "      <td>185.0</td>\n",
       "      <td>visa</td>\n",
       "      <td>226.0</td>\n",
       "      <td>...</td>\n",
       "      <td>NaN</td>\n",
       "      <td>NaN</td>\n",
       "      <td>NaN</td>\n",
       "      <td>NaN</td>\n",
       "      <td>NaN</td>\n",
       "      <td>NaN</td>\n",
       "      <td>NaN</td>\n",
       "      <td>NaN</td>\n",
       "      <td>NaN</td>\n",
       "      <td>NaN</td>\n",
       "    </tr>\n",
       "    <tr>\n",
       "      <th>3489059</th>\n",
       "      <td>502059</td>\n",
       "      <td>0</td>\n",
       "      <td>13159069</td>\n",
       "      <td>77.950</td>\n",
       "      <td>W</td>\n",
       "      <td>7919</td>\n",
       "      <td>194.0</td>\n",
       "      <td>150.0</td>\n",
       "      <td>mastercard</td>\n",
       "      <td>166.0</td>\n",
       "      <td>...</td>\n",
       "      <td>NaN</td>\n",
       "      <td>NaN</td>\n",
       "      <td>NaN</td>\n",
       "      <td>NaN</td>\n",
       "      <td>NaN</td>\n",
       "      <td>NaN</td>\n",
       "      <td>NaN</td>\n",
       "      <td>NaN</td>\n",
       "      <td>NaN</td>\n",
       "      <td>NaN</td>\n",
       "    </tr>\n",
       "  </tbody>\n",
       "</table>\n",
       "<p>5 rows × 394 columns</p>\n",
       "</div>"
      ],
      "text/plain": [
       "         unnamed: 0  y  transactiondt  transactionamt productcd  card1  card2  \\\n",
       "id                                                                              \n",
       "3486774      499774  0       13107389          38.056         C   9633  130.0   \n",
       "3062695       75695  0        1650884         150.000         R  15063  514.0   \n",
       "3273443      286443  0        7048761          56.500         W   9006  555.0   \n",
       "3384445      397445  0       10011292           8.459         C  11201  103.0   \n",
       "3489059      502059  0       13159069          77.950         W   7919  194.0   \n",
       "\n",
       "         card3       card4  card5  ... v330  v331  v332  v333  v334 v335 v336  \\\n",
       "id                                 ...                                          \n",
       "3486774  185.0        visa  138.0  ...  NaN   NaN   NaN   NaN   NaN  NaN  NaN   \n",
       "3062695  150.0        visa  226.0  ...  0.0   0.0   0.0   0.0   0.0  0.0  0.0   \n",
       "3273443  143.0  mastercard  224.0  ...  NaN   NaN   NaN   NaN   NaN  NaN  NaN   \n",
       "3384445  185.0        visa  226.0  ...  NaN   NaN   NaN   NaN   NaN  NaN  NaN   \n",
       "3489059  150.0  mastercard  166.0  ...  NaN   NaN   NaN   NaN   NaN  NaN  NaN   \n",
       "\n",
       "         v337  v338  v339  \n",
       "id                         \n",
       "3486774   NaN   NaN   NaN  \n",
       "3062695   0.0   0.0   0.0  \n",
       "3273443   NaN   NaN   NaN  \n",
       "3384445   NaN   NaN   NaN  \n",
       "3489059   NaN   NaN   NaN  \n",
       "\n",
       "[5 rows x 394 columns]"
      ]
     },
     "execution_count": 133,
     "metadata": {},
     "output_type": "execute_result"
    }
   ],
   "source": [
    "data.head()"
   ]
  },
  {
   "cell_type": "code",
   "execution_count": 134,
   "metadata": {},
   "outputs": [],
   "source": [
    "data.drop([c for c in data.columns if c.startswith('v')], axis=1, inplace=True)\n",
    "data.drop(['unnamed: 0'], axis=1, inplace=True)"
   ]
  },
  {
   "cell_type": "markdown",
   "metadata": {},
   "source": [
    "# boolean features to float (0,1)"
   ]
  },
  {
   "cell_type": "code",
   "execution_count": 135,
   "metadata": {},
   "outputs": [],
   "source": [
    "# bool -> int\n",
    "for col in ['m1', 'm2', 'm3', 'm5', 'm6', 'm7', 'm8', 'm9']:\n",
    "    data[col] = data[col].map( {'F': 0, 'T': 1} ).astype(float)"
   ]
  },
  {
   "cell_type": "markdown",
   "metadata": {},
   "source": [
    "# evaluate categorical features"
   ]
  },
  {
   "cell_type": "code",
   "execution_count": 136,
   "metadata": {
    "scrolled": true
   },
   "outputs": [
    {
     "name": "stdout",
     "output_type": "stream",
     "text": [
      "number of categories for variable 'productcd': 5 \n",
      "number of categories for variable 'card4': 5 \n",
      "number of categories for variable 'card6': 4 \n",
      "number of categories for variable 'p_emaildomain': 58 \n",
      "number of categories for variable 'r_emaildomain': 45 \n",
      "number of categories for variable 'm4': 4 \n"
     ]
    }
   ],
   "source": [
    "categories_dict = {}\n",
    "for cat in data.columns:\n",
    "    if data[cat].dtypes == 'object':\n",
    "        categories_dict[cat] = list(data[cat].unique())\n",
    "        n_categories = data[cat].unique().size\n",
    "        print(\"number of categories for variable '{}': {} \".format(cat, n_categories))"
   ]
  },
  {
   "cell_type": "markdown",
   "metadata": {},
   "source": [
    "# distribution of categorical vars\n",
    "By doing this checkup, some details come to our attention. The biggest one is that some categories are defined with an question mark \"?\". It is tempting to consider it missing value, but that would be a hasty decision because further analysis (mainly inquiring the data provider) should be previously done.\n",
    "\n",
    "The main reason to avoid treating those values is that we can't assume beforehand if those are Missing at Random (MAR) or Missing not at Random (MNAR). Here is some fast reference about it: https://towardsdatascience.com/how-to-handle-missing-data-8646b18db0d4\n",
    "\n",
    "Anyway, I placed functions to treat missing values on the 'data_cleansing' notebook. Furthermore, I will convert \"?\" into NaN until taking a final decision"
   ]
  },
  {
   "cell_type": "code",
   "execution_count": 137,
   "metadata": {},
   "outputs": [],
   "source": [
    "def get_cat_vis(cat):\n",
    "    print('proportion of 1')\n",
    "    multiplers = (data[data['y']==1][cat].value_counts() / data[cat].value_counts()).sort_values(ascending=False).head()\n",
    "    print(multiplers)\n",
    "    sns.catplot(x=cat,kind=\"count\", hue=\"y\", data=data, height=4);"
   ]
  },
  {
   "cell_type": "code",
   "execution_count": 138,
   "metadata": {},
   "outputs": [
    {
     "name": "stdout",
     "output_type": "stream",
     "text": [
      "there are 6 categorical variables\n",
      "from a total of 54\n"
     ]
    }
   ],
   "source": [
    "print('there are {} categorical variables'.format(len(categories_dict.keys())))\n",
    "print('from a total of {}'.format(data.shape[1]))"
   ]
  },
  {
   "cell_type": "code",
   "execution_count": 139,
   "metadata": {},
   "outputs": [],
   "source": [
    "# cat = cat_list[0]\n",
    "# plt.xticks(rotation=45)\n",
    "# data[cat].hist(bins=16, alpha = .5, figsize=(10,3));"
   ]
  },
  {
   "cell_type": "code",
   "execution_count": 140,
   "metadata": {},
   "outputs": [],
   "source": [
    "cat_list = list(categories_dict.keys())"
   ]
  },
  {
   "cell_type": "code",
   "execution_count": 141,
   "metadata": {},
   "outputs": [
    {
     "name": "stdout",
     "output_type": "stream",
     "text": [
      "proportion of 1\n",
      "C    0.131052\n",
      "S    0.089947\n",
      "R    0.035881\n",
      "H    0.027574\n",
      "W    0.020328\n",
      "Name: productcd, dtype: float64\n"
     ]
    },
    {
     "data": {
      "image/png": "[encoded data removed]",
      "text/plain": [
       "<Figure size 330.375x288 with 1 Axes>"
      ]
     },
     "metadata": {
      "needs_background": "light"
     },
     "output_type": "display_data"
    }
   ],
   "source": [
    "get_cat_vis(cat_list[0])"
   ]
  },
  {
   "cell_type": "code",
   "execution_count": 142,
   "metadata": {},
   "outputs": [
    {
     "name": "stdout",
     "output_type": "stream",
     "text": [
      "proportion of 1\n",
      "discover            0.109244\n",
      "mastercard          0.039839\n",
      "visa                0.033765\n",
      "american express    0.007407\n",
      "Name: card4, dtype: float64\n"
     ]
    },
    {
     "data": {
      "image/png": "[encoded data removed]",
      "text/plain": [
       "<Figure size 330.375x288 with 1 Axes>"
      ]
     },
     "metadata": {
      "needs_background": "light"
     },
     "output_type": "display_data"
    }
   ],
   "source": [
    "get_cat_vis(cat_list[1])"
   ]
  },
  {
   "cell_type": "code",
   "execution_count": 143,
   "metadata": {},
   "outputs": [
    {
     "name": "stdout",
     "output_type": "stream",
     "text": [
      "proportion of 1\n",
      "credit             0.067735\n",
      "debit              0.025795\n",
      "debit or credit         NaN\n",
      "Name: card6, dtype: float64\n"
     ]
    },
    {
     "data": {
      "image/png": "[encoded data removed]",
      "text/plain": [
       "<Figure size 330.375x288 with 1 Axes>"
      ]
     },
     "metadata": {
      "needs_background": "light"
     },
     "output_type": "display_data"
    }
   ],
   "source": [
    "get_cat_vis(cat_list[2])"
   ]
  },
  {
   "cell_type": "code",
   "execution_count": 144,
   "metadata": {},
   "outputs": [
    {
     "name": "stdout",
     "output_type": "stream",
     "text": [
      "proportion of 1\n",
      "mail.com      0.333333\n",
      "sc.rr.com     0.333333\n",
      "outlook.es    0.333333\n",
      "aim.com       0.285714\n",
      "hotmail.es    0.222222\n",
      "Name: p_emaildomain, dtype: float64\n"
     ]
    },
    {
     "data": {
      "image/png": "[encoded data removed]",
      "text/plain": [
       "<Figure size 330.375x288 with 1 Axes>"
      ]
     },
     "metadata": {
      "needs_background": "light"
     },
     "output_type": "display_data"
    }
   ],
   "source": [
    "get_cat_vis(cat_list[3])"
   ]
  },
  {
   "cell_type": "code",
   "execution_count": 145,
   "metadata": {},
   "outputs": [
    {
     "name": "stdout",
     "output_type": "stream",
     "text": [
      "proportion of 1\n",
      "mail.com       0.500000\n",
      "outlook.es     0.333333\n",
      "ymail.com      0.250000\n",
      "outlook.com    0.233333\n",
      "hotmail.es     0.222222\n",
      "Name: r_emaildomain, dtype: float64\n"
     ]
    },
    {
     "data": {
      "image/png": "[encoded data removed]",
      "text/plain": [
       "<Figure size 330.375x288 with 1 Axes>"
      ]
     },
     "metadata": {
      "needs_background": "light"
     },
     "output_type": "display_data"
    }
   ],
   "source": [
    "get_cat_vis(cat_list[4])"
   ]
  },
  {
   "cell_type": "code",
   "execution_count": 146,
   "metadata": {},
   "outputs": [
    {
     "name": "stdout",
     "output_type": "stream",
     "text": [
      "proportion of 1\n",
      "M2    0.125698\n",
      "M0    0.039137\n",
      "M1    0.022826\n",
      "Name: m4, dtype: float64\n"
     ]
    },
    {
     "data": {
      "image/png": "[encoded data removed]",
      "text/plain": [
       "<Figure size 330.375x288 with 1 Axes>"
      ]
     },
     "metadata": {
      "needs_background": "light"
     },
     "output_type": "display_data"
    }
   ],
   "source": [
    "get_cat_vis(cat_list[5])"
   ]
  },
  {
   "cell_type": "markdown",
   "metadata": {},
   "source": [
    "# report data types"
   ]
  },
  {
   "cell_type": "code",
   "execution_count": 147,
   "metadata": {
    "scrolled": true
   },
   "outputs": [
    {
     "name": "stdout",
     "output_type": "stream",
     "text": [
      "['transactiondt', 'transactionamt', 'card1', 'card2', 'card3', 'card5', 'addr1', 'addr2', 'dist1', 'dist2', 'c1', 'c2', 'c3', 'c4', 'c5', 'c6', 'c7', 'c8', 'c9', 'c10', 'c11', 'c12', 'c13', 'c14', 'd1', 'd2', 'd3', 'd4', 'd5', 'd6', 'd7', 'd8', 'd9', 'd10', 'd11', 'd12', 'd13', 'd14', 'd15', 'm1', 'm2', 'm3', 'm5', 'm6', 'm7', 'm8', 'm9']\n"
     ]
    }
   ],
   "source": [
    "numerical_cols, other_cols = get_numerical_mask(data)\n",
    "numerical_cols.remove('y')\n",
    "print(numerical_cols)\n",
    "\n",
    "num_df = pd.DataFrame(numerical_cols)\n",
    "other_df = pd.DataFrame(other_cols)"
   ]
  },
  {
   "cell_type": "markdown",
   "metadata": {},
   "source": [
    "#### concatenate"
   ]
  },
  {
   "cell_type": "code",
   "execution_count": 148,
   "metadata": {},
   "outputs": [],
   "source": [
    "report_df = pd.concat([num_df,other_df], ignore_index=True, axis=1)\n",
    "report_df.columns = ['numerical_cols', 'non_numerical_cols']"
   ]
  },
  {
   "cell_type": "markdown",
   "metadata": {},
   "source": [
    "# Checking  for possible anomalies in the database\n",
    "Here we check for some possible anomalies. If there was one, we should look for solutions such as: contact the team responsible for data engineering or anyone who has a good understanding of the provided data, search for flaws in the data pipeline, or at least document for those anomalies."
   ]
  },
  {
   "cell_type": "markdown",
   "metadata": {},
   "source": [
    "Check if there is any oddity in data."
   ]
  },
  {
   "cell_type": "code",
   "execution_count": 149,
   "metadata": {
    "scrolled": false
   },
   "outputs": [
    {
     "data": {
      "text/html": [
       "<div>\n",
       "<style scoped>\n",
       "    .dataframe tbody tr th:only-of-type {\n",
       "        vertical-align: middle;\n",
       "    }\n",
       "\n",
       "    .dataframe tbody tr th {\n",
       "        vertical-align: top;\n",
       "    }\n",
       "\n",
       "    .dataframe thead th {\n",
       "        text-align: right;\n",
       "    }\n",
       "</style>\n",
       "<table border=\"1\" class=\"dataframe\">\n",
       "  <thead>\n",
       "    <tr style=\"text-align: right;\">\n",
       "      <th></th>\n",
       "      <th>y</th>\n",
       "      <th>transactiondt</th>\n",
       "      <th>transactionamt</th>\n",
       "      <th>card1</th>\n",
       "      <th>card2</th>\n",
       "      <th>card3</th>\n",
       "      <th>card5</th>\n",
       "      <th>addr1</th>\n",
       "      <th>addr2</th>\n",
       "      <th>dist1</th>\n",
       "      <th>...</th>\n",
       "      <th>d14</th>\n",
       "      <th>d15</th>\n",
       "      <th>m1</th>\n",
       "      <th>m2</th>\n",
       "      <th>m3</th>\n",
       "      <th>m5</th>\n",
       "      <th>m6</th>\n",
       "      <th>m7</th>\n",
       "      <th>m8</th>\n",
       "      <th>m9</th>\n",
       "    </tr>\n",
       "  </thead>\n",
       "  <tbody>\n",
       "    <tr>\n",
       "      <th>count</th>\n",
       "      <td>10000.000000</td>\n",
       "      <td>1.000000e+04</td>\n",
       "      <td>10000.000000</td>\n",
       "      <td>10000.000000</td>\n",
       "      <td>9842.000000</td>\n",
       "      <td>9978.000000</td>\n",
       "      <td>9934.000000</td>\n",
       "      <td>8849.000000</td>\n",
       "      <td>8849.000000</td>\n",
       "      <td>4111.000000</td>\n",
       "      <td>...</td>\n",
       "      <td>1036.000000</td>\n",
       "      <td>8511.000000</td>\n",
       "      <td>5476.000000</td>\n",
       "      <td>5476.000000</td>\n",
       "      <td>5476.000000</td>\n",
       "      <td>4029.000000</td>\n",
       "      <td>7126.000000</td>\n",
       "      <td>4162.000000</td>\n",
       "      <td>4162.000000</td>\n",
       "      <td>4162.000000</td>\n",
       "    </tr>\n",
       "    <tr>\n",
       "      <th>mean</th>\n",
       "      <td>0.036300</td>\n",
       "      <td>7.378482e+06</td>\n",
       "      <td>137.002317</td>\n",
       "      <td>9879.690000</td>\n",
       "      <td>361.055375</td>\n",
       "      <td>153.336140</td>\n",
       "      <td>198.852829</td>\n",
       "      <td>289.112668</td>\n",
       "      <td>86.820093</td>\n",
       "      <td>118.680370</td>\n",
       "      <td>...</td>\n",
       "      <td>54.573359</td>\n",
       "      <td>164.542004</td>\n",
       "      <td>0.999817</td>\n",
       "      <td>0.892805</td>\n",
       "      <td>0.776662</td>\n",
       "      <td>0.441301</td>\n",
       "      <td>0.465900</td>\n",
       "      <td>0.129265</td>\n",
       "      <td>0.354877</td>\n",
       "      <td>0.840221</td>\n",
       "    </tr>\n",
       "    <tr>\n",
       "      <th>std</th>\n",
       "      <td>0.187045</td>\n",
       "      <td>4.599073e+06</td>\n",
       "      <td>247.033617</td>\n",
       "      <td>4917.656486</td>\n",
       "      <td>158.014321</td>\n",
       "      <td>11.351212</td>\n",
       "      <td>41.632274</td>\n",
       "      <td>101.642908</td>\n",
       "      <td>2.419210</td>\n",
       "      <td>363.370928</td>\n",
       "      <td>...</td>\n",
       "      <td>130.815766</td>\n",
       "      <td>203.495484</td>\n",
       "      <td>0.013514</td>\n",
       "      <td>0.309389</td>\n",
       "      <td>0.416521</td>\n",
       "      <td>0.496604</td>\n",
       "      <td>0.498871</td>\n",
       "      <td>0.335533</td>\n",
       "      <td>0.478534</td>\n",
       "      <td>0.366445</td>\n",
       "    </tr>\n",
       "    <tr>\n",
       "      <th>min</th>\n",
       "      <td>0.000000</td>\n",
       "      <td>8.841000e+04</td>\n",
       "      <td>0.272000</td>\n",
       "      <td>1001.000000</td>\n",
       "      <td>100.000000</td>\n",
       "      <td>100.000000</td>\n",
       "      <td>100.000000</td>\n",
       "      <td>110.000000</td>\n",
       "      <td>19.000000</td>\n",
       "      <td>0.000000</td>\n",
       "      <td>...</td>\n",
       "      <td>0.000000</td>\n",
       "      <td>0.000000</td>\n",
       "      <td>0.000000</td>\n",
       "      <td>0.000000</td>\n",
       "      <td>0.000000</td>\n",
       "      <td>0.000000</td>\n",
       "      <td>0.000000</td>\n",
       "      <td>0.000000</td>\n",
       "      <td>0.000000</td>\n",
       "      <td>0.000000</td>\n",
       "    </tr>\n",
       "    <tr>\n",
       "      <th>25%</th>\n",
       "      <td>0.000000</td>\n",
       "      <td>3.030122e+06</td>\n",
       "      <td>42.950000</td>\n",
       "      <td>6019.000000</td>\n",
       "      <td>206.000000</td>\n",
       "      <td>150.000000</td>\n",
       "      <td>166.000000</td>\n",
       "      <td>204.000000</td>\n",
       "      <td>87.000000</td>\n",
       "      <td>3.000000</td>\n",
       "      <td>...</td>\n",
       "      <td>0.000000</td>\n",
       "      <td>0.000000</td>\n",
       "      <td>1.000000</td>\n",
       "      <td>1.000000</td>\n",
       "      <td>1.000000</td>\n",
       "      <td>0.000000</td>\n",
       "      <td>0.000000</td>\n",
       "      <td>0.000000</td>\n",
       "      <td>0.000000</td>\n",
       "      <td>1.000000</td>\n",
       "    </tr>\n",
       "    <tr>\n",
       "      <th>50%</th>\n",
       "      <td>0.000000</td>\n",
       "      <td>7.327499e+06</td>\n",
       "      <td>67.950000</td>\n",
       "      <td>9633.000000</td>\n",
       "      <td>361.000000</td>\n",
       "      <td>150.000000</td>\n",
       "      <td>226.000000</td>\n",
       "      <td>299.000000</td>\n",
       "      <td>87.000000</td>\n",
       "      <td>9.000000</td>\n",
       "      <td>...</td>\n",
       "      <td>0.000000</td>\n",
       "      <td>55.000000</td>\n",
       "      <td>1.000000</td>\n",
       "      <td>1.000000</td>\n",
       "      <td>1.000000</td>\n",
       "      <td>0.000000</td>\n",
       "      <td>0.000000</td>\n",
       "      <td>0.000000</td>\n",
       "      <td>0.000000</td>\n",
       "      <td>1.000000</td>\n",
       "    </tr>\n",
       "    <tr>\n",
       "      <th>75%</th>\n",
       "      <td>0.000000</td>\n",
       "      <td>1.123440e+07</td>\n",
       "      <td>122.000000</td>\n",
       "      <td>14276.000000</td>\n",
       "      <td>512.000000</td>\n",
       "      <td>150.000000</td>\n",
       "      <td>226.000000</td>\n",
       "      <td>330.000000</td>\n",
       "      <td>87.000000</td>\n",
       "      <td>25.000000</td>\n",
       "      <td>...</td>\n",
       "      <td>1.000000</td>\n",
       "      <td>313.000000</td>\n",
       "      <td>1.000000</td>\n",
       "      <td>1.000000</td>\n",
       "      <td>1.000000</td>\n",
       "      <td>1.000000</td>\n",
       "      <td>1.000000</td>\n",
       "      <td>0.000000</td>\n",
       "      <td>1.000000</td>\n",
       "      <td>1.000000</td>\n",
       "    </tr>\n",
       "    <tr>\n",
       "      <th>max</th>\n",
       "      <td>1.000000</td>\n",
       "      <td>1.581012e+07</td>\n",
       "      <td>4463.950000</td>\n",
       "      <td>18390.000000</td>\n",
       "      <td>600.000000</td>\n",
       "      <td>226.000000</td>\n",
       "      <td>237.000000</td>\n",
       "      <td>536.000000</td>\n",
       "      <td>96.000000</td>\n",
       "      <td>4966.000000</td>\n",
       "      <td>...</td>\n",
       "      <td>730.000000</td>\n",
       "      <td>807.000000</td>\n",
       "      <td>1.000000</td>\n",
       "      <td>1.000000</td>\n",
       "      <td>1.000000</td>\n",
       "      <td>1.000000</td>\n",
       "      <td>1.000000</td>\n",
       "      <td>1.000000</td>\n",
       "      <td>1.000000</td>\n",
       "      <td>1.000000</td>\n",
       "    </tr>\n",
       "  </tbody>\n",
       "</table>\n",
       "<p>8 rows × 48 columns</p>\n",
       "</div>"
      ],
      "text/plain": [
       "                  y  transactiondt  transactionamt         card1        card2  \\\n",
       "count  10000.000000   1.000000e+04    10000.000000  10000.000000  9842.000000   \n",
       "mean       0.036300   7.378482e+06      137.002317   9879.690000   361.055375   \n",
       "std        0.187045   4.599073e+06      247.033617   4917.656486   158.014321   \n",
       "min        0.000000   8.841000e+04        0.272000   1001.000000   100.000000   \n",
       "25%        0.000000   3.030122e+06       42.950000   6019.000000   206.000000   \n",
       "50%        0.000000   7.327499e+06       67.950000   9633.000000   361.000000   \n",
       "75%        0.000000   1.123440e+07      122.000000  14276.000000   512.000000   \n",
       "max        1.000000   1.581012e+07     4463.950000  18390.000000   600.000000   \n",
       "\n",
       "             card3        card5        addr1        addr2        dist1  ...  \\\n",
       "count  9978.000000  9934.000000  8849.000000  8849.000000  4111.000000  ...   \n",
       "mean    153.336140   198.852829   289.112668    86.820093   118.680370  ...   \n",
       "std      11.351212    41.632274   101.642908     2.419210   363.370928  ...   \n",
       "min     100.000000   100.000000   110.000000    19.000000     0.000000  ...   \n",
       "25%     150.000000   166.000000   204.000000    87.000000     3.000000  ...   \n",
       "50%     150.000000   226.000000   299.000000    87.000000     9.000000  ...   \n",
       "75%     150.000000   226.000000   330.000000    87.000000    25.000000  ...   \n",
       "max     226.000000   237.000000   536.000000    96.000000  4966.000000  ...   \n",
       "\n",
       "               d14          d15           m1           m2           m3  \\\n",
       "count  1036.000000  8511.000000  5476.000000  5476.000000  5476.000000   \n",
       "mean     54.573359   164.542004     0.999817     0.892805     0.776662   \n",
       "std     130.815766   203.495484     0.013514     0.309389     0.416521   \n",
       "min       0.000000     0.000000     0.000000     0.000000     0.000000   \n",
       "25%       0.000000     0.000000     1.000000     1.000000     1.000000   \n",
       "50%       0.000000    55.000000     1.000000     1.000000     1.000000   \n",
       "75%       1.000000   313.000000     1.000000     1.000000     1.000000   \n",
       "max     730.000000   807.000000     1.000000     1.000000     1.000000   \n",
       "\n",
       "                m5           m6           m7           m8           m9  \n",
       "count  4029.000000  7126.000000  4162.000000  4162.000000  4162.000000  \n",
       "mean      0.441301     0.465900     0.129265     0.354877     0.840221  \n",
       "std       0.496604     0.498871     0.335533     0.478534     0.366445  \n",
       "min       0.000000     0.000000     0.000000     0.000000     0.000000  \n",
       "25%       0.000000     0.000000     0.000000     0.000000     1.000000  \n",
       "50%       0.000000     0.000000     0.000000     0.000000     1.000000  \n",
       "75%       1.000000     1.000000     0.000000     1.000000     1.000000  \n",
       "max       1.000000     1.000000     1.000000     1.000000     1.000000  \n",
       "\n",
       "[8 rows x 48 columns]"
      ]
     },
     "execution_count": 149,
     "metadata": {},
     "output_type": "execute_result"
    }
   ],
   "source": [
    "data.loc[:, ].describe()"
   ]
  },
  {
   "cell_type": "markdown",
   "metadata": {},
   "source": [
    "# boxplots\n",
    "This is useful to check for outliers, which will be handled later. Also, some values might be misleading, requiring a preimputation step. For instance: hours per week shouldn't surpass 140. Age shouldn't go well beyond 90."
   ]
  },
  {
   "cell_type": "code",
   "execution_count": 150,
   "metadata": {},
   "outputs": [],
   "source": [
    "numerical_cols, other_cols = get_numerical_mask(data)"
   ]
  },
  {
   "cell_type": "code",
   "execution_count": 151,
   "metadata": {},
   "outputs": [
    {
     "name": "stdout",
     "output_type": "stream",
     "text": [
      "['y', 'transactiondt', 'transactionamt', 'card1', 'card2', 'card3', 'card5', 'addr1', 'addr2', 'dist1', 'dist2', 'c1', 'c2', 'c3', 'c4', 'c5', 'c6', 'c7', 'c8', 'c9', 'c10', 'c11', 'c12', 'c13', 'c14', 'd1', 'd2', 'd3', 'd4', 'd5', 'd6', 'd7', 'd8', 'd9', 'd10', 'd11', 'd12', 'd13', 'd14', 'd15', 'm1', 'm2', 'm3', 'm5', 'm6', 'm7', 'm8', 'm9']\n"
     ]
    }
   ],
   "source": [
    "print(numerical_cols)"
   ]
  },
  {
   "cell_type": "code",
   "execution_count": 152,
   "metadata": {},
   "outputs": [],
   "source": [
    "partition = int(len(numerical_cols)/5)"
   ]
  },
  {
   "cell_type": "code",
   "execution_count": 153,
   "metadata": {},
   "outputs": [],
   "source": [
    "if not sandbox_mode:\n",
    "    build_boxplots(data[numerical_cols[:partition*1]], '01')"
   ]
  },
  {
   "cell_type": "code",
   "execution_count": 154,
   "metadata": {},
   "outputs": [],
   "source": [
    "if not sandbox_mode:\n",
    "    build_boxplots(data[numerical_cols[partition*1:partition*2]], '02')"
   ]
  },
  {
   "cell_type": "code",
   "execution_count": 155,
   "metadata": {},
   "outputs": [],
   "source": [
    "if not sandbox_mode:\n",
    "    build_boxplots(data[numerical_cols[partition*2:partition*3]], '02')"
   ]
  },
  {
   "cell_type": "code",
   "execution_count": 156,
   "metadata": {},
   "outputs": [],
   "source": [
    "if not sandbox_mode:\n",
    "    build_boxplots(data[numerical_cols[partition*3:partition*4]], '02')"
   ]
  },
  {
   "cell_type": "code",
   "execution_count": 157,
   "metadata": {},
   "outputs": [],
   "source": [
    "if not sandbox_mode:\n",
    "    build_boxplots(data[numerical_cols[partition*4:partition*5]], '02')"
   ]
  },
  {
   "cell_type": "markdown",
   "metadata": {},
   "source": [
    "# save data"
   ]
  },
  {
   "cell_type": "code",
   "execution_count": 158,
   "metadata": {},
   "outputs": [],
   "source": [
    "data.to_csv(os.path.join(outputs, 'data.csv'))"
   ]
  },
  {
   "cell_type": "code",
   "execution_count": null,
   "metadata": {},
   "outputs": [],
   "source": []
  }
 ],
 "metadata": {
  "kernelspec": {
   "display_name": "Python 3",
   "language": "python",
   "name": "python3"
  },
  "language_info": {
   "codemirror_mode": {
    "name": "ipython",
    "version": 3
   },
   "file_extension": ".py",
   "mimetype": "text/x-python",
   "name": "python",
   "nbconvert_exporter": "python",
   "pygments_lexer": "ipython3",
   "version": "3.7.5"
  }
 },
 "nbformat": 4,
 "nbformat_minor": 4
}
