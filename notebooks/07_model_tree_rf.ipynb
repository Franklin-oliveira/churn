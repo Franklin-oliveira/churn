{
 "cells": [
  {
   "cell_type": "code",
   "execution_count": 1,
   "metadata": {},
   "outputs": [],
   "source": [
    "import json\n",
    "import os\n",
    "import sys\n",
    "import warnings\n",
    "\n",
    "import numpy as np\n",
    "import pandas as pd\n",
    "from datetime import datetime\n",
    "from pprint import pprint\n",
    "from sklearn.preprocessing import StandardScaler\n",
    "from sklearn.impute import SimpleImputer as Imputer\n",
    "from sklearn.pipeline import Pipeline\n",
    "from sklearn.model_selection import GridSearchCV\n",
    "\n",
    "warnings.filterwarnings('ignore')"
   ]
  },
  {
   "cell_type": "code",
   "execution_count": 2,
   "metadata": {},
   "outputs": [],
   "source": [
    "sys.path.append(os.path.join('..', 'src'))"
   ]
  },
  {
   "cell_type": "code",
   "execution_count": 3,
   "metadata": {},
   "outputs": [],
   "source": [
    "import importlib\n",
    "import model\n",
    "importlib.reload(model)\n",
    "\n",
    "from model import get_model_params, timer, measure_prediction_time, apply_ml_model, save_model_parameters, save_model_metrics"
   ]
  },
  {
   "cell_type": "markdown",
   "metadata": {},
   "source": [
    "# set model parameters and capture data"
   ]
  },
  {
   "cell_type": "code",
   "execution_count": 4,
   "metadata": {},
   "outputs": [
    {
     "name": "stdout",
     "output_type": "stream",
     "text": [
      "(4930, 20)\n",
      "(4930, 26)\n",
      "(4930, 1)\n"
     ]
    }
   ],
   "source": [
    "inputs = os.path.join('..', 'data', '03_processed')\n",
    "models_reports = os.path.join('..', 'data', '04_models')\n",
    "model_outputs = os.path.join('..', 'data', '05_model_output')\n",
    "reports = os.path.join('..', 'data', '06_reporting')\n",
    "\n",
    "X_train            = pd.read_csv(os.path.join(inputs, 'X_train.csv'), index_col='id')\n",
    "X_train_onehot         = pd.read_csv(os.path.join(inputs, 'X_train_onehot.csv'), index_col='id')\n",
    "y_train            = pd.read_csv(os.path.join(inputs, 'y_train.csv'), index_col='id')\n",
    "\n",
    "data_list = [X_train, X_train_onehot, y_train]\n",
    "\n",
    "for df in data_list:\n",
    "    print(df.shape)"
   ]
  },
  {
   "cell_type": "markdown",
   "metadata": {},
   "source": [
    "# Machine Learning"
   ]
  },
  {
   "cell_type": "code",
   "execution_count": 5,
   "metadata": {},
   "outputs": [],
   "source": [
    "from sklearn.ensemble import RandomForestClassifier\n",
    "from sklearn.ensemble import RandomForestRegressor"
   ]
  },
  {
   "cell_type": "code",
   "execution_count": 6,
   "metadata": {},
   "outputs": [],
   "source": [
    "model_type = 'tree_rf'\n",
    "ml_dict = {}"
   ]
  },
  {
   "cell_type": "raw",
   "metadata": {},
   "source": [
    "def get_model_params(classifier):\n",
    "    if target_type == 'regression':\n",
    "        classifier.best_score_ = -classifier.best_score_\n",
    "    return classifier.best_params_, classifier.best_score_"
   ]
  },
  {
   "cell_type": "code",
   "execution_count": 7,
   "metadata": {},
   "outputs": [],
   "source": [
    "columns = X_train.columns.to_list()"
   ]
  },
  {
   "cell_type": "code",
   "execution_count": 8,
   "metadata": {},
   "outputs": [
    {
     "name": "stdout",
     "output_type": "stream",
     "text": [
      "test type: True\n",
      "(4930, 20) (4930, 20)\n"
     ]
    }
   ],
   "source": [
    "scoring = 'f1'\n",
    "\n",
    "# Specify the hyperparameter space\n",
    "parameters = {'model__max_features':[1, 2, \"auto\", \"log2\", None],\n",
    "              'model__n_estimators':[100, 200, 300],\n",
    "              'model__n_estimators':[10], # it allows faster tests on pipeline\n",
    "              'model__random_state':[42]}\n",
    "\n",
    "# ml_model = RandomForestRegressor()\n",
    "ml_model = RandomForestClassifier()\n",
    "do_transform_label = None\n",
    "    \n",
    "# df_x = dfs_dict['X_train']\n",
    "# df_y = dfs_dict['y_train']\n",
    "# key = 'standard'\n",
    "ml_dict[model_type] = {}\n",
    "clf, ml_dict[model_type]['train_time'], ml_dict[model_type]['prediction_time'] = apply_ml_model(\n",
    "    X_train, y_train, columns, ml_model, parameters, scoring, \n",
    "    do_build_polynomals=False, do_transform_label=do_transform_label, \n",
    "    do_treat_skewness=False,\n",
    "    imputation=Imputer(strategy='median'), scaler=None, smote=False,\n",
    "    testing=True)\n",
    "\n",
    "ml_dict[model_type]['best_params'], ml_dict[model_type]['best_score']  = get_model_params(clf, scoring)\n",
    "ml_dict[model_type]['columns'] = columns"
   ]
  },
  {
   "cell_type": "code",
   "execution_count": 9,
   "metadata": {
    "scrolled": true
   },
   "outputs": [
    {
     "name": "stdout",
     "output_type": "stream",
     "text": [
      "RESULTS FOR TREE MODEL\n",
      "{'tree_rf': {'best_params': {'model__max_features': 'auto',\n",
      "                             'model__n_estimators': 10,\n",
      "                             'model__random_state': 42},\n",
      "             'best_score': 0.5091648828589008,\n",
      "             'columns': ['gender_male',\n",
      "                         'seniorcitizen',\n",
      "                         'partner',\n",
      "                         'dependents',\n",
      "                         'tenure',\n",
      "                         'phoneservice',\n",
      "                         'multiplelines',\n",
      "                         'internetservice',\n",
      "                         'onlinesecurity',\n",
      "                         'onlinebackup',\n",
      "                         'deviceprotection',\n",
      "                         'techsupport',\n",
      "                         'streamingtv',\n",
      "                         'streamingmovies',\n",
      "                         'contract',\n",
      "                         'paperlessbilling',\n",
      "                         'paymentmethod',\n",
      "                         'monthlycharges',\n",
      "                         'totalcharges',\n",
      "                         'if_anomaly'],\n",
      "             'prediction_time': 0.0003001,\n",
      "             'train_time': 1.859938}}\n"
     ]
    }
   ],
   "source": [
    "print('RESULTS FOR TREE MODEL')\n",
    "pprint(ml_dict)"
   ]
  },
  {
   "cell_type": "markdown",
   "metadata": {},
   "source": [
    "# save model parameters and metrics"
   ]
  },
  {
   "cell_type": "code",
   "execution_count": 10,
   "metadata": {},
   "outputs": [],
   "source": [
    "save_model_parameters(models_reports, model_type, clf)\n",
    "save_model_metrics(model_outputs, model_type, ml_dict)"
   ]
  },
  {
   "cell_type": "code",
   "execution_count": null,
   "metadata": {},
   "outputs": [],
   "source": []
  }
 ],
 "metadata": {
  "kernelspec": {
   "display_name": "Python 3",
   "language": "python",
   "name": "python3"
  },
  "language_info": {
   "codemirror_mode": {
    "name": "ipython",
    "version": 3
   },
   "file_extension": ".py",
   "mimetype": "text/x-python",
   "name": "python",
   "nbconvert_exporter": "python",
   "pygments_lexer": "ipython3",
   "version": "3.7.5"
  }
 },
 "nbformat": 4,
 "nbformat_minor": 4
}
